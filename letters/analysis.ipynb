{
 "cells": [
  {
   "cell_type": "markdown",
   "metadata": {},
   "source": [
    "# Sensor Data Analysis for recognizing letters\n",
    "\n",
    "Required packages for this notebook:\n",
    "\n",
    "```\n",
    "pip install matplotlib numpy ipympl ipywidgets\n",
    "```"
   ]
  },
  {
   "cell_type": "code",
   "execution_count": null,
   "metadata": {},
   "outputs": [],
   "source": [
    "import dataclasses\n",
    "import pathlib\n",
    "from typing import List, Tuple\n",
    "\n",
    "import matplotlib.pyplot as plt\n",
    "import numpy as np\n",
    "\n",
    "%matplotlib widget"
   ]
  },
  {
   "cell_type": "markdown",
   "metadata": {},
   "source": [
    "## Data loading"
   ]
  },
  {
   "cell_type": "code",
   "execution_count": null,
   "metadata": {},
   "outputs": [],
   "source": [
    "@dataclasses.dataclass\n",
    "class Recording:\n",
    "  id: str\n",
    "  gravity: np.ndarray\n",
    "  quat: np.ndarray\n",
    "\n",
    "def loadData() -> List[Recording]:\n",
    "  result = []\n",
    "  root = pathlib.Path(\"feb22\")\n",
    "  for dir in root.glob(\"M_*\"):\n",
    "    gravity = loadNumeric(dir / \"gravity_data.txt\")\n",
    "    quat = loadNumeric(dir / \"quat_data.txt\")\n",
    "    result.append(Recording(id=dir.name, gravity=gravity, quat=quat))\n",
    "  return result\n",
    "\n",
    "def loadNumeric(path: pathlib.Path) -> np.ndarray:\n",
    "  rows = []\n",
    "  for line in open(path, 'r'):\n",
    "    if not line.strip():\n",
    "      continue\n",
    "    rows.append(np.array([float(v) for v in line.split()], np.float64))\n",
    "  return np.stack(rows, axis=0)\n",
    "\n",
    "recordings = loadData()"
   ]
  },
  {
   "cell_type": "markdown",
   "metadata": {},
   "source": [
    "## Quaternion utilities"
   ]
  },
  {
   "cell_type": "code",
   "execution_count": null,
   "metadata": {},
   "outputs": [],
   "source": [
    "def mulQuat(q0, q1):\n",
    "  \"\"\"Multiply two quaternions.\"\"\"\n",
    "  w0 = q0[0]\n",
    "  x0 = q0[1]\n",
    "  y0 = q0[2]\n",
    "  z0 = q0[3]\n",
    "\n",
    "  w1 = q1[0]\n",
    "  x1 = q1[1]\n",
    "  y1 = q1[2]\n",
    "  z1 = q1[3]\n",
    "\n",
    "  return np.array([\n",
    "    w0 * w1 - x0 * x1 - y0 * y1 - z0 * z1,\n",
    "    w0 * x1 + x0 * w1 + y0 * z1 - z0 * y1,\n",
    "    w0 * y1 - x0 * z1 + y0 * w1 + z0 * x1,\n",
    "    w0 * z1 + x0 * y1 - y0 * x1 + z0 * w1,\n",
    "  ])\n",
    "\n",
    "def invQuat(q):\n",
    "  \"\"\"Invert a quaternion rotation (quat conjugate).\"\"\"\n",
    "  return np.array([q[0], -q[1], -q[2], -q[3]])\n",
    "\n",
    "def applyRotation(q, p):\n",
    "  \"\"\"Returns a position vector p, rotated by a unit quaternion rotation.\"\"\"\n",
    "  # p' = q * p * inv(q)\n",
    "  return mulQuat(q, mulQuat(np.concatenate([[0], p]), invQuat(q)))[1:]"
   ]
  },
  {
   "cell_type": "markdown",
   "metadata": {},
   "source": [
    "## Turning a sequence of orientations to a 3D trajectory"
   ]
  },
  {
   "cell_type": "code",
   "execution_count": null,
   "metadata": {},
   "outputs": [],
   "source": [
    "def get3DTipTrajectory(recording: Recording):\n",
    "  \"\"\"Returns an Nx3 matrix of positions based on recording.quat.\"\"\"\n",
    "  # Direction of the wand tip relative to quat frame.\n",
    "  # Chosen by trial and error to give positive Z values and clear shapes.\n",
    "  # 1, 0, 0  works reasonably well too.\n",
    "  tip = np.array([0.8, -0.5, -0.4], dtype=np.float64)\n",
    "  tip /= np.linalg.norm(tip)\n",
    "\n",
    "  # Drop first 10 entries as gravity is not calibrated\n",
    "  quats = recording.quat[10:]\n",
    "\n",
    "  result = np.empty([quats.shape[0], 3], np.float64)\n",
    "  for i in range(quats.shape[0]):\n",
    "    result[i, :] = applyRotation(quats[i, :], tip)\n",
    "\n",
    "  return result\n",
    "\n",
    "def plot3DTrajectory(ax, trajectory):\n",
    "  \"\"\"Adds a 3D scatter plot of the trajectory to `ax`.\"\"\"\n",
    "  [l.remove() for l in ax.lines]\n",
    "  xs = trajectory[:, 0]\n",
    "  ys = trajectory[:, 1]\n",
    "  zs = trajectory[:, 2]\n",
    "  ax.scatter(xs, ys, zs, marker='o')\n",
    "  ax.scatter([0], [0], [0], marker='x')\n",
    "  ax.set_xlabel('X')\n",
    "  ax.set_ylabel('Y')\n",
    "  ax.set_zlabel('Z')\n",
    "  ax.set_xbound(-1, 1)\n",
    "  ax.set_ybound(-1, 1)\n",
    "  ax.set_zbound(-1, 1)\n",
    "\n",
    "traj_fig = plt.figure('All Trajectories', clear=True)\n",
    "traj_fig.clear()\n",
    "traj_ax = traj_fig.add_subplot(projection='3d')\n",
    "\n",
    "for recording in recordings:\n",
    "  plot3DTrajectory(traj_ax, get3DTipTrajectory(recording))\n"
   ]
  },
  {
   "cell_type": "markdown",
   "metadata": {},
   "source": [
    "The previous cell shows that largely, we have decent trajectories, aligned with positive Z being upwards.\n",
    "\n",
    "Now we want to project each trajectory into a small 2D image. The idea is to convert the trajectory back to Euler angles, find the smallest yaw and pitch ranges that encompass the whole trajectory, and treat those values as X and Y in the image space."
   ]
  },
  {
   "cell_type": "code",
   "execution_count": null,
   "metadata": {},
   "outputs": [],
   "source": [
    "def yawAngles(trajectory):\n",
    "  \"\"\"Converts position on unit circle to yaw angles (longitude).\n",
    "  \n",
    "  Returns angles in [-pi, pi].\"\"\"\n",
    "  # find the angle on the x-y plane.\n",
    "  return np.arctan2(trajectory[:, 0], trajectory[:, 1])\n",
    "\n",
    "def pitchAngles(trajectory):\n",
    "  \"\"\"Converts positions on unit circle to pitch angles (latitude).\n",
    "  \n",
    "  Returns angles in [-pi/2, pi/2].\"\"\"\n",
    "  return np.arcsin(trajectory[:, 2])\n",
    "\n",
    "def wrappingAngleRange(angles) -> Tuple[float, float]:\n",
    "  \"\"\"Returns the smallest angle range that encompasses all angles.\n",
    "  \n",
    "  Args:\n",
    "    angles: array of radian angles in [-pi, pi].\n",
    "  \n",
    "  Returns:\n",
    "    a tuple of two angles. If the second is smaller than the first, then the\n",
    "    angle range contains pi.\n",
    "  \"\"\"\n",
    "  # Algorithm: Find the largest gap between adjacent angles (handling the wrap-around\n",
    "  # at pi), then return 2*pi minus that angle.\n",
    "  angles = np.sort(angles)\n",
    "  angles_diff = angles - np.roll(angles, 1)\n",
    "  angles_diff[0] = 2*np.pi + angles_diff[0]\n",
    "  first_angle = np.argmax(angles_diff)\n",
    "  last_angle = (first_angle - 1) % angles.size\n",
    "  return (angles[first_angle], angles[last_angle])\n",
    "\n",
    "for i in range(len(recordings)):\n",
    "  angle_range = wrappingAngleRange(yawAngles(get3DTipTrajectory(recordings[i])))\n",
    "  print(i, \"[%0.1f, %0.1f]\" % (angle_range[0] * 180 / np.pi, angle_range[1] * 180 / np.pi))\n"
   ]
  },
  {
   "cell_type": "code",
   "execution_count": 23,
   "metadata": {},
   "outputs": [
    {
     "name": "stdout",
     "output_type": "stream",
     "text": [
      "min_x 0.0\n",
      "x_range 0.4174163668901669\n",
      "min_y 0.0\n",
      "y_range 0.6117192027830682\n",
      "scale 1.6347369764598128\n",
      "new_x [0.15881702 0.1601148  0.16182179 0.1637163  0.16538318 0.16758462\n",
      " 0.17032914 0.17371495 0.17791385 0.18229903 0.18660505 0.19038098\n",
      " 0.19356424 0.19619203 0.19853121 0.20074081 0.20282309 0.20512278\n",
      " 0.20736861 0.20864351 0.20941296 0.20920477 0.20869863 0.2085482\n",
      " 0.20938905 0.21121601 0.21365218 0.21702114 0.22101274 0.22550005\n",
      " 0.23064313 0.23595619 0.24168937 0.24721776 0.25230121 0.25680631\n",
      " 0.26119687 0.26615727 0.27190387 0.27894618 0.28511933 0.29102779\n",
      " 0.29578256 0.3000662  0.3073275  0.3073275  0.31135201 0.31481498\n",
      " 0.31715354 0.31836087 0.31799722 0.3169344  0.31551932 0.31407566\n",
      " 0.3130748  0.31262159 0.31353923 0.31457953 0.31585949 0.31660567\n",
      " 0.31766668 0.31870699 0.3200439  0.32210507 0.3242871  0.32663294\n",
      " 0.32924705 0.33256294 0.33702547 0.34287831 0.35115495 0.36073365\n",
      " 0.37145445 0.38320494 0.39562178 0.40912287 0.42329325 0.43789166\n",
      " 0.45295637 0.46888646 0.4858374  0.503744   0.52192483 0.54019802\n",
      " 0.55857141 0.57661356 0.59443281 0.61194015 0.62913974 0.64578454\n",
      " 0.66193691 0.6776955  0.69375599 0.70923574 0.72445514 0.73863987\n",
      " 0.75207076 0.76460449 0.77668025 0.78854074 0.79965674 0.80938952\n",
      " 0.81797893 0.82523544 0.83152806 0.83692975 0.84118298 0.83852361\n",
      " 0.83464461 0.83604146 0.83814166 0.83814166 0.8387713  0.83747557]\n",
      "new_y [1.00000000e+00 9.92044898e-01 9.83038679e-01 9.72647080e-01\n",
      " 9.60432048e-01 9.46757375e-01 9.31608694e-01 9.15785553e-01\n",
      " 8.99699665e-01 8.83639586e-01 8.67472478e-01 8.51012108e-01\n",
      " 8.34297129e-01 8.16863681e-01 7.97958607e-01 7.77185487e-01\n",
      " 7.54794140e-01 7.31489412e-01 7.07437584e-01 6.82440543e-01\n",
      " 6.57365168e-01 6.31568274e-01 6.05183589e-01 5.78343995e-01\n",
      " 5.51292023e-01 5.24342581e-01 4.96824907e-01 4.68651823e-01\n",
      " 4.39567744e-01 4.09084666e-01 3.77827604e-01 3.46255054e-01\n",
      " 3.15529831e-01 2.84480395e-01 2.52636268e-01 2.19116373e-01\n",
      " 1.85718600e-01 1.53879572e-01 1.25654767e-01 1.01463774e-01\n",
      " 7.97708727e-02 6.07070413e-02 4.39769423e-02 2.97126962e-02\n",
      " 8.62833158e-03 8.62833158e-03 2.87553918e-03 7.35681263e-05\n",
      " 0.00000000e+00 1.84201692e-03 4.56929126e-03 7.60991387e-03\n",
      " 1.04452654e-02 1.30060223e-02 1.46974518e-02 1.62343346e-02\n",
      " 1.74992046e-02 1.86868511e-02 1.97060474e-02 1.98043663e-02\n",
      " 2.02043241e-02 2.14086950e-02 2.30014313e-02 2.51940416e-02\n",
      " 2.80368758e-02 3.09968480e-02 3.51467314e-02 3.96333147e-02\n",
      " 4.50360870e-02 5.12801916e-02 5.88054826e-02 6.77701371e-02\n",
      " 7.82326715e-02 8.99077382e-02 1.02458441e-01 1.15301577e-01\n",
      " 1.28554389e-01 1.41588203e-01 1.54308181e-01 1.66662204e-01\n",
      " 1.78754686e-01 1.90486918e-01 2.00844979e-01 2.10093593e-01\n",
      " 2.18177200e-01 2.25658485e-01 2.32809753e-01 2.39960165e-01\n",
      " 2.47295575e-01 2.54300442e-01 2.61281741e-01 2.68187334e-01\n",
      " 2.75323997e-01 2.82453809e-01 2.89038164e-01 2.95343902e-01\n",
      " 3.01069903e-01 3.06160595e-01 3.10742889e-01 3.14940683e-01\n",
      " 3.18683838e-01 3.22063850e-01 3.24913773e-01 3.27513346e-01\n",
      " 3.29535016e-01 3.30969584e-01 3.31362497e-01 3.11381287e-01\n",
      " 2.91603055e-01 2.90549592e-01 2.89465413e-01 2.89465413e-01\n",
      " 2.89614792e-01 2.91539357e-01]\n",
      "new_x[0:15] [0.15881702 0.1601148  0.16182179 0.1637163  0.16538318 0.16758462\n",
      " 0.17032914 0.17371495 0.17791385 0.18229903 0.18660505 0.19038098\n",
      " 0.19356424 0.19619203 0.19853121]\n",
      "new_y[0:15] [1.         0.9920449  0.98303868 0.97264708 0.96043205 0.94675738\n",
      " 0.93160869 0.91578555 0.89969967 0.88363959 0.86747248 0.85101211\n",
      " 0.83429713 0.81686368 0.79795861]\n"
     ]
    },
    {
     "data": {
      "text/plain": [
       "<matplotlib.legend.Legend at 0x285ab8d2550>"
      ]
     },
     "execution_count": 23,
     "metadata": {},
     "output_type": "execute_result"
    }
   ],
   "source": [
    "def normaliseTrajectory(trajectory):\n",
    "  \"\"\"Returns trajectory points as yaw and pitch angles, normalised to start at 0.\"\"\"\n",
    "  yaw = yawAngles(trajectory)\n",
    "  pitch = pitchAngles(trajectory)\n",
    "  yaw_range = wrappingAngleRange(yaw)\n",
    "  # note: wrappingAngleRange would work for pitch, but we don't need it, since the\n",
    "  # angles are in [-pi/2, pi/2] and don't wrap around\n",
    "  pitch_range = (np.min(pitch), np.max(pitch))\n",
    "  yaw -= yaw_range[0]\n",
    "  yaw[yaw < 0] += 2 * np.pi\n",
    "  pitch = pitch - pitch_range[0]\n",
    "  pitch[pitch < 0] += 2 * np.pi\n",
    "\n",
    "  return fitInBox(yaw, pitch)\n",
    "\n",
    "def fitInBox(x: np.ndarray, y: np.ndarray) -> Tuple[np.ndarray, np.ndarray]:\n",
    "  \"\"\"Rescales a set of x-y coordinates to fit in a 1x1 box.\"\"\"\n",
    "  min_x = np.min(x)\n",
    "  x_range = np.max(x) - min_x\n",
    "  min_y = np.min(y)\n",
    "  y_range = np.max(y) - min_y\n",
    "  scale = 1.0 / max(x_range, y_range)\n",
    "  new_x = 0.5 + (x - min_x - x_range / 2) * scale\n",
    "  new_y = 0.5 + (y - min_y - y_range / 2) * scale\n",
    "  \n",
    "  # print(\"new_x[0:15]\",new_x[0:15])\n",
    "  # print(\"new_y[0:15]\",new_y[0:15])\n",
    "  return new_x, new_y\n",
    "\n",
    "def plotNormalized(ax, trajectory, name):\n",
    "  yaw, pitch = normaliseTrajectory(trajectory)\n",
    "  ax.scatter(x=yaw, y=pitch, alpha=0.2, label=name)\n",
    "\n",
    "normalized_fig = plt.figure(\"norm\")\n",
    "normalized_fig.clear()\n",
    "normalized_ax = normalized_fig.add_subplot()\n",
    "for i, recording in enumerate(recordings):\n",
    "  plotNormalized(normalized_ax, get3DTipTrajectory(recording), str(i))\n",
    "  break\n",
    "normalized_ax.axis('equal')\n",
    "normalized_ax.legend()"
   ]
  },
  {
   "cell_type": "markdown",
   "metadata": {},
   "source": [
    "## Appendix: Data validation - understanding the gravity vector\n",
    "\n",
    "Validate that gravity vectors are about 9.81 m/s^2 in magnitude."
   ]
  },
  {
   "cell_type": "code",
   "execution_count": null,
   "metadata": {},
   "outputs": [],
   "source": [
    "def gravityNormsHistogram(recordings):\n",
    "  gravity_norms = np.concatenate(\n",
    "    [np.linalg.norm(recording.gravity, axis=1) for recording in recordings])\n",
    "  fig = plt.figure(\"gravity_norm\")\n",
    "  ax = fig.add_subplot()\n",
    "  ax.hist(x=gravity_norms, bins=30)\n",
    "  ax.set_xlabel(\"Gravity vector magnitude\")\n",
    "  ax.set_ylabel(\"Datapoint count\")\n",
    "\n",
    "gravityNormsHistogram(recordings)"
   ]
  },
  {
   "cell_type": "markdown",
   "metadata": {},
   "source": [
    "John says each gravity list is missing the first 10 elements to align with quaternions. Verify:"
   ]
  },
  {
   "cell_type": "code",
   "execution_count": null,
   "metadata": {},
   "outputs": [],
   "source": [
    "def validateDimensions(recordings):\n",
    "  for recording in recordings:\n",
    "    g_dim = recording.gravity.shape[0]\n",
    "    quat_dim = recording.quat.shape[0]\n",
    "    if g_dim + 10 != quat_dim:\n",
    "      raise ValueError(f\"Recording {recording.id} has {g_dim} gravity readings and {quat_dim} quat entries\")\n",
    "validateDimensions(recordings)"
   ]
  },
  {
   "cell_type": "markdown",
   "metadata": {},
   "source": [
    "Try averaging the gravity vectors. If they always point the same way between trajectories, we'd would expect the mean to have magnitude close to 9.81 m/s^2 (since we won't have destructive interference)."
   ]
  },
  {
   "cell_type": "code",
   "execution_count": null,
   "metadata": {},
   "outputs": [],
   "source": [
    "def meanGravity(recordings, firstn=None):\n",
    "  if firstn:\n",
    "    return np.mean(np.concatenate(\n",
    "        [recording.gravity[:firstn, :] for recording in recordings], axis=0), axis=0)\n",
    "  return np.mean(np.concatenate(\n",
    "    [recording.gravity for recording in recordings], axis=0), axis=0)\n",
    "\n",
    "print(\"Overall mean:\", meanGravity(recordings), np.linalg.norm(meanGravity(recordings)))\n",
    "print(\"First step mean:\", meanGravity(recordings, 1), np.linalg.norm(meanGravity(recordings, 1)))"
   ]
  },
  {
   "cell_type": "markdown",
   "metadata": {},
   "source": [
    "Results show that the gravity vectors don't tend to be consistent between episodes. This could be due to differences in how the sensor is mounted, differences in how the wand is held, or a calibration issue.\n",
    "\n",
    "Next: Find a relation between the quaternions and the gravity vector."
   ]
  },
  {
   "cell_type": "code",
   "execution_count": null,
   "metadata": {},
   "outputs": [],
   "source": [
    "def rotatedGravity(recording: Recording, transpose: bool = False):\n",
    "  quats = recording.quat[10:]\n",
    "  result = np.empty([quats.shape[0], 3], np.float64)\n",
    "  for i in range(quats.shape[0]):\n",
    "    result[i, :] = applyRotation(quats[i, :], recording.gravity[i, :])\n",
    "\n",
    "  return result\n",
    "\n",
    "def meanRotatedGravity(recordings: List[Recording]) -> np.ndarray:\n",
    "  return np.mean(np.concatenate([rotatedGravity(r) for r in recordings], axis=0), axis=0)\n",
    "\n",
    "# Prints a vector like\n",
    "# [[ 0.23779003]\n",
    "#  [-0.37204996]\n",
    "#  [ 9.7412319 ]]\n",
    "# which suggests that:\n",
    "# 1. This is the correct transformation (close to 9.81 in the same direction)\n",
    "# 2. The base orientation has Z going downwards\n",
    "print(meanRotatedGravity(recordings),\n",
    "      np.linalg.norm(meanRotatedGravity(recordings)))"
   ]
  },
  {
   "cell_type": "markdown",
   "metadata": {},
   "source": [
    "So now we have a way of taking a vector in the wand frame (e.g. gravity)\n",
    "and getting a result in the world frame, but the world frame has positive Z going downwards.\n",
    "We should be able to pick a point along the wand line (e.g. [1, 0, 0]), transform it with the\n",
    "quaternions, and get its trajectory in the world frame."
   ]
  }
 ],
 "metadata": {
  "kernelspec": {
   "display_name": "Python 3.8.0 64-bit",
   "language": "python",
   "name": "python3"
  },
  "language_info": {
   "codemirror_mode": {
    "name": "ipython",
    "version": 3
   },
   "file_extension": ".py",
   "mimetype": "text/x-python",
   "name": "python",
   "nbconvert_exporter": "python",
   "pygments_lexer": "ipython3",
   "version": "3.8.0"
  },
  "orig_nbformat": 4,
  "vscode": {
   "interpreter": {
    "hash": "570feb405e2e27c949193ac68f46852414290d515b0ba6e5d90d076ed2284471"
   }
  }
 },
 "nbformat": 4,
 "nbformat_minor": 2
}
